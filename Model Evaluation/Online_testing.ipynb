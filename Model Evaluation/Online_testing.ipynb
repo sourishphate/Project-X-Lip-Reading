{
  "cells": [
    {
      "cell_type": "code",
      "execution_count": 1,
      "metadata": {
        "colab": {
          "base_uri": "https://localhost:8080/"
        },
        "id": "-PST1zDLX8Qi",
        "outputId": "66fb494a-8829-47fa-c139-3841d47989b2"
      },
      "outputs": [
        {
          "output_type": "stream",
          "name": "stdout",
          "text": [
            "Mounted at /content/drive\n"
          ]
        }
      ],
      "source": [
        "from google.colab import drive\n",
        "drive.mount('/content/drive')"
      ]
    },
    {
      "cell_type": "code",
      "execution_count": 2,
      "metadata": {
        "colab": {
          "base_uri": "https://localhost:8080/"
        },
        "id": "ImhGamN4YJGv",
        "outputId": "8bb6ff95-c539-4a5a-daf8-e5f92df08295"
      },
      "outputs": [
        {
          "output_type": "stream",
          "name": "stdout",
          "text": [
            "/content/drive/MyDrive/Project-X-Lip-Reading\n"
          ]
        }
      ],
      "source": [
        "%cd /content/drive/MyDrive/Project-X-Lip-Reading"
      ]
    },
    {
      "cell_type": "code",
      "execution_count": 3,
      "metadata": {
        "id": "yJ1_3rGTYTu5"
      },
      "outputs": [],
      "source": [
        "import numpy as np\n",
        "import os\n",
        "import imutils\n",
        "import dlib\n",
        "import cv2\n",
        "import matplotlib.pyplot as plt\n",
        "import skimage\n",
        "from skimage.transform import resize\n",
        "import imageio\n",
        "from imutils import face_utils"
      ]
    },
    {
      "cell_type": "code",
      "execution_count": 4,
      "metadata": {
        "id": "JLsy8deqY69L"
      },
      "outputs": [],
      "source": [
        "people = ['F01','F02','F03','F04','F05','M01','M02','M03','M04','M05']\n",
        "data_types = ['words','phrases']\n",
        "folder_enum = ['01','02','03','04','05','06','07','08', '09', '10']\n",
        "instances = ['01','02','03','04','05','06','07','08', '09', '10']\n",
        "words = ['NULL', 'Begin', 'Choose', 'Connection', 'Navigation', 'Next', 'Previous', 'Start', 'Stop', 'Hello', 'Web']\n",
        "phrases = ['Stop navigation', 'Excuse me', 'I am sorry', 'Thank you', 'Good bye', 'I love this game', 'Nice to meet you', 'You are welcome', 'How are you?', 'Have a good time']"
      ]
    },
    {
      "cell_type": "code",
      "execution_count": 5,
      "metadata": {
        "colab": {
          "base_uri": "https://localhost:8080/",
          "height": 36
        },
        "id": "eSH6KB-kZC7x",
        "outputId": "bbf03f51-83f3-4f4b-d668-83856ca59335"
      },
      "outputs": [
        {
          "output_type": "execute_result",
          "data": {
            "text/plain": [
              "'/content/drive/MyDrive/Project-X-Lip-Reading'"
            ],
            "application/vnd.google.colaboratory.intrinsic+json": {
              "type": "string"
            }
          },
          "metadata": {},
          "execution_count": 5
        }
      ],
      "source": [
        "get_ipython().run_line_magic('pwd', '')"
      ]
    },
    {
      "cell_type": "code",
      "execution_count": 6,
      "metadata": {
        "id": "OhRq8BzHPIwK"
      },
      "outputs": [],
      "source": [
        "def face_extractor(img):\n",
        "    image = cv2.cvtColor(img, cv2.COLOR_BGR2RGB)\n",
        "\n",
        "    face_classifier = cv2.CascadeClassifier('/content/drive/MyDrive/Project-X-Lip-Reading/Dataset Preprocessing/xml files/haarcascade_frontalface_default.xml')\n",
        "    faces = face_classifier.detectMultiScale(image, 1.3, 5)\n",
        "\n",
        "    # If faces are found, extract the first face\n",
        "    if len(faces) > 0:\n",
        "        for (x, y, w, h) in faces:\n",
        "            cropped_image = image[y:y+h, x:x+w]\n",
        "            cropped_image = cv2.cvtColor(cropped_image, cv2.COLOR_RGB2BGR)\n",
        "            return cropped_image\n",
        "    else:\n",
        "        print(\"No face found.\")\n",
        "        return None\n",
        "\n",
        "# image = cv2.imread('/content/drive/MyDrive/Project-X-Lip-Reading/Dataset/check2.png')\n",
        "# image = cv2.cvtColor(image, cv2.COLOR_RGB2BGR)\n",
        "# cropped_image = face_extractor(image)\n",
        "# cv2.imwrite('/content/drive/MyDrive/Project-X-Lip-Reading/Dataset/cropface2.jpg', cropped_image)\n",
        "# plt.imshow(cv2.cvtColor(cropped_image, cv2.COLOR_BGR2RGB))\n",
        "# plt.axis('off')\n",
        "# plt.show()"
      ]
    },
    {
      "cell_type": "code",
      "execution_count": 7,
      "metadata": {
        "id": "lb8iN9WUPTOV"
      },
      "outputs": [],
      "source": [
        "def lips_extractor(img):\n",
        "    predictor = dlib.shape_predictor('/content/drive/MyDrive/Project-X-Lip-Reading/Dataset Preprocessing/xml files/shape_predictor_68_face_landmarks.dat')\n",
        "\n",
        "    image = imutils.resize(img, width=56)\n",
        "    gray = cv2.cvtColor(image, cv2.COLOR_BGR2GRAY)\n",
        "\n",
        "    bbox = dlib.rectangle(0, 0, gray.shape[1], gray.shape[0])\n",
        "    face_landmarks = predictor(gray, bbox)\n",
        "    face_landmarks = face_utils.shape_to_np(face_landmarks)\n",
        "\n",
        "    for (name,(i,j)) in face_utils.FACIAL_LANDMARKS_IDXS.items():\n",
        "         if name=='mouth':\n",
        "            for (x, y) in face_landmarks[i:j]:\n",
        "                (x, y, w, h) = cv2.boundingRect(np.array([face_landmarks[i:j]]))\n",
        "                lip_image = image[y - 2:y + h + 2, x - 2:x + w + 2]\n",
        "                lip_image = imutils.resize(lip_image, width=500, inter=cv2.INTER_CUBIC)\n",
        "\n",
        "                lip_image = cv2.cvtColor(lip_image, cv2.COLOR_BGR2GRAY)\n",
        "\n",
        "    if len(lip_image) == 0:\n",
        "        print(\"No lips detected.\")\n",
        "        return None\n",
        "    else:\n",
        "        return lip_image\n",
        "\n",
        "# image = cv2.imread('/content/drive/MyDrive/Project-X-Lip-Reading/Dataset/cropface2.jpg')\n",
        "# cropped_image = lips_extractor(image)\n",
        "# plt.imshow(cv2.cvtColor(cropped_image, cv2.COLOR_GRAY2RGB))\n",
        "# plt.axis('off')\n",
        "# plt.show()"
      ]
    },
    {
      "cell_type": "code",
      "execution_count": 8,
      "metadata": {
        "id": "SVGBj3h8-Cq2"
      },
      "outputs": [],
      "source": [
        "# word_count = np.zeros(10)\n",
        "# word_total = np.zeros(10)\n",
        "\n",
        "# for person_id in os.listdir('/content/drive/MyDrive/Project-X-Lip-Reading/Dataset/word dataset'):\n",
        "#     f_path = os.path.join('/content/drive/MyDrive/Project-X-Lip-Reading/Dataset/word dataset', person_id)\n",
        "#     if os.path.isdir(f_path):\n",
        "#         for data_type in os.listdir(f_path):\n",
        "#             l_path = os.path.join(f_path, data_type)\n",
        "#             if os.path.isdir(l_path):\n",
        "#                 for word_index, word in enumerate(os.listdir(l_path)):\n",
        "#                     w_path = os.path.join(l_path, word)\n",
        "#                     if os.path.isdir(w_path):\n",
        "#                         for iteration in os.listdir(w_path):\n",
        "#                             p_path = os.path.join(w_path, iteration)\n",
        "#                             if os.path.isdir(p_path):\n",
        "#                                 sequence = 0;\n",
        "#                                 for img_name in os.listdir(p_path):\n",
        "#                                     if not os.path.isdir(img_name):\n",
        "#                                       sequence = sequence + 1\n",
        "#                                 word_count[word_index] = word_count[word_index] + sequence\n",
        "#                                 word_total[word_index] = word_total[word_index] + 1\n",
        "\n",
        "# no_of_seq = np.round(word_count / word_total)\n",
        "# word_to_seq = {words[i+1]: no_of_seq[i] for i in range(len(no_of_seq))}\n",
        "\n",
        "# # No. of Sequence\n",
        "# for word, seq in word_to_seq.items():\n",
        "#     print(f\"{word}: {seq}\")"
      ]
    },
    {
      "cell_type": "code",
      "execution_count": 9,
      "metadata": {
        "colab": {
          "base_uri": "https://localhost:8080/"
        },
        "id": "eDadcDVleLmw",
        "outputId": "27c62854-1af1-4df4-ca9b-b2292bc87b4c"
      },
      "outputs": [
        {
          "output_type": "stream",
          "name": "stdout",
          "text": [
            "102\n"
          ]
        }
      ],
      "source": [
        "frames = []\n",
        "video_path = '/content/drive/MyDrive/Project-X-Lip-Reading/Dataset/test videos/choose_american.mp4'\n",
        "\n",
        "# Open the video file\n",
        "cap = cv2.VideoCapture(video_path)\n",
        "total_frames = int(cap.get(cv2.CAP_PROP_FRAME_COUNT))\n",
        "\n",
        "print(total_frames)"
      ]
    },
    {
      "cell_type": "code",
      "execution_count": 10,
      "metadata": {
        "colab": {
          "base_uri": "https://localhost:8080/"
        },
        "id": "OBs3FKfKbBHM",
        "outputId": "2f2a9a62-8e4a-4867-f331-1b09f5b1077f"
      },
      "outputs": [
        {
          "output_type": "stream",
          "name": "stdout",
          "text": [
            "Extracted 10 frames.\n"
          ]
        }
      ],
      "source": [
        "frames = []\n",
        "video_path = '/content/drive/MyDrive/Project-X-Lip-Reading/Dataset/test videos/choose_american.mp4'\n",
        "\n",
        "# Open the video file\n",
        "cap = cv2.VideoCapture(video_path)\n",
        "total_frames = int(cap.get(cv2.CAP_PROP_FRAME_COUNT))\n",
        "\n",
        "# Calculate the number of frames to extract\n",
        "num_frames = 10\n",
        "\n",
        "# Calculate the interval between frames\n",
        "interval = total_frames // num_frames\n",
        "\n",
        "frames = []\n",
        "for i in range(num_frames):\n",
        "    cap.set(cv2.CAP_PROP_POS_FRAMES, i * interval)\n",
        "    ret, frame = cap.read()\n",
        "    if ret:\n",
        "        frame = face_extractor(frame)\n",
        "        if frame is not None:\n",
        "            frame = lips_extractor(frame)\n",
        "            if frame is not None:\n",
        "                frame = resize(frame, (100,100))\n",
        "                frame = 255 * frame\n",
        "\n",
        "                frame = frame.astype(np.uint8)\n",
        "                frames.append(frame)\n",
        "            else:\n",
        "                print(f\"Error: lips_extractor failed at frame {i * interval}\")\n",
        "        else:\n",
        "            print(f\"Error: face_extractor failed at frame {i * interval}\")\n",
        "    else:\n",
        "        print(f\"Error: Could not read frame {i * interval}\")\n",
        "\n",
        "cap.release()\n",
        "print(f\"Extracted {len(frames)} frames.\")\n",
        "\n",
        "pad_array = [np.zeros((100, 100), dtype=np.uint8)]\n",
        "frames.extend(pad_array * (28 - len(frames)))\n",
        "frames = np.array(frames)"
      ]
    },
    {
      "cell_type": "code",
      "execution_count": 11,
      "metadata": {
        "colab": {
          "base_uri": "https://localhost:8080/",
          "height": 186
        },
        "id": "jy4QCJmwSKWa",
        "outputId": "6b2d85d6-613e-413f-edb5-f9f933e05df6"
      },
      "outputs": [
        {
          "output_type": "display_data",
          "data": {
            "text/plain": [
              "<Figure size 1400x200 with 28 Axes>"
            ],
            "image/png": "[encoded data removed]"
          },
          "metadata": {}
        }
      ],
      "source": [
        "def display_images(image_list):\n",
        "    fig, axes = plt.subplots(2, 14, figsize=(14, 2))\n",
        "    for i, img in enumerate(image_list):\n",
        "        row, col = divmod(i, 14)\n",
        "        axes[row, col].imshow(img)\n",
        "        axes[row, col].axis('off')  # Hide axes\n",
        "    plt.show()\n",
        "\n",
        "display_images(frames)"
      ]
    },
    {
      "cell_type": "code",
      "execution_count": 12,
      "metadata": {
        "colab": {
          "base_uri": "https://localhost:8080/"
        },
        "id": "T6vy_xbqoSHD",
        "outputId": "3e0e4d79-35f0-43d7-902c-bd6bcc124629"
      },
      "outputs": [
        {
          "output_type": "execute_result",
          "data": {
            "text/plain": [
              "(28, 100, 100)"
            ]
          },
          "metadata": {},
          "execution_count": 12
        }
      ],
      "source": [
        "frames.shape"
      ]
    },
    {
      "cell_type": "code",
      "execution_count": 13,
      "metadata": {
        "colab": {
          "base_uri": "https://localhost:8080/"
        },
        "id": "fGbCJ6qQksWj",
        "outputId": "12162bb7-77af-4a8b-dc45-de00fc0d05d9"
      },
      "outputs": [
        {
          "output_type": "stream",
          "name": "stderr",
          "text": [
            "WARNING:absl:Compiled the loaded model, but the compiled metrics have yet to be built. `model.compile_metrics` will be empty until you train or evaluate the model.\n"
          ]
        }
      ],
      "source": [
        "import tensorflow as tf\n",
        "\n",
        "# Load the model\n",
        "loaded_model = tf.keras.models.load_model('/content/drive/MyDrive/Project-X-Lip-Reading/Model Architecture/Saved Model/3D_CNN_LSTM_words.h5')"
      ]
    },
    {
      "cell_type": "code",
      "execution_count": 14,
      "metadata": {
        "colab": {
          "base_uri": "https://localhost:8080/"
        },
        "id": "1zv5WhNKk-SJ",
        "outputId": "63d94a58-1e2f-4f21-f95b-ab5ce9c0d398"
      },
      "outputs": [
        {
          "output_type": "stream",
          "name": "stdout",
          "text": [
            "\u001b[1m1/1\u001b[0m \u001b[32m━━━━━━━━━━━━━━━━━━━━\u001b[0m\u001b[37m\u001b[0m \u001b[1m1s\u001b[0m 996ms/step\n",
            "Predicted: NULL , 0.0 %\n",
            "Predicted: Begin , 0.87 %\n",
            "Predicted: Choose , 78.86 %\n",
            "Predicted: Connection , 0.02 %\n",
            "Predicted: Navigation , 1.18 %\n",
            "Predicted: Next , 0.58 %\n",
            "Predicted: Previous , 0.03 %\n",
            "Predicted: Start , 2.38 %\n",
            "Predicted: Stop , 0.18 %\n",
            "Predicted: Hello , 2.46 %\n",
            "Predicted: Web , 13.43 %\n"
          ]
        }
      ],
      "source": [
        "# Normalize the frames\n",
        "np.seterr(divide='ignore', invalid='ignore')  # Ignore divide by 0 warning\n",
        "v_min = frames.min(axis=(1, 2), keepdims=True)\n",
        "v_max = frames.max(axis=(1, 2), keepdims=True)\n",
        "frames = (frames - v_min) / (v_max - v_min)\n",
        "frames = np.nan_to_num(frames)\n",
        "\n",
        "# Reshape the input for prediction\n",
        "my_pred = frames.reshape(1, 28, 100, 100, 1)\n",
        "ans = loaded_model.predict(my_pred)\n",
        "\n",
        "# Get all words with their percentages\n",
        "percentages = [round(p * 100, 2) for p in ans[0]]\n",
        "predictions = {words[i]: percentages[i] for i in range(len(words))}\n",
        "\n",
        "# Print all words with their percentages\n",
        "for word, percent in predictions.items():\n",
        "    print(f\"Predicted: {word} , {percent} %\")\n",
        "\n",
        "max_index = np.argmax(ans)\n",
        "text = f\"Predicted: {words[max_index]} , {percentages[max_index]} %\""
      ]
    },
    {
      "cell_type": "code",
      "execution_count": 15,
      "metadata": {
        "colab": {
          "base_uri": "https://localhost:8080/"
        },
        "id": "pCRHsf8DpRwc",
        "outputId": "ba9ae401-5684-4d93-a55b-6acd5a736777"
      },
      "outputs": [
        {
          "output_type": "stream",
          "name": "stdout",
          "text": [
            "Predicted: Choose , 78.86 %\n"
          ]
        }
      ],
      "source": [
        "print(text)"
      ]
    },
    {
      "cell_type": "code",
      "execution_count": 15,
      "metadata": {
        "id": "bnGMi2yZbYKC"
      },
      "outputs": [],
      "source": []
    }
  ],
  "metadata": {
    "colab": {
      "provenance": []
    },
    "kernelspec": {
      "display_name": "Python 3",
      "name": "python3"
    },
    "language_info": {
      "name": "python"
    }
  },
  "nbformat": 4,
  "nbformat_minor": 0
}